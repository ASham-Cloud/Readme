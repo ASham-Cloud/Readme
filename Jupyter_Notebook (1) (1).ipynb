{
 "cells": [
  {
   "cell_type": "markdown",
   "metadata": {},
   "source": [
    "<center>\n",
    "    <img src=\"https://s3-api.us-geo.objectstorage.softlayer.net/cf-courses-data/CognitiveClass/Logos/organization_logo/organization_logo.png\" width=\"300\" alt=\"cognitiveclass.ai logo\"  />\n",
    "</center>\n"
   ]
  },
  {
   "cell_type": "markdown",
   "metadata": {},
   "source": [
    "#### Add your code below following the instructions given in the course\n"
   ]
  },
  {
   "cell_type": "markdown",
   "metadata": {},
   "source": [
    "# My Jupyter Notebook on IBM Watson Studio\n"
   ]
  },
  {
   "cell_type": "markdown",
   "metadata": {},
   "source": [
    "__A. Sham__ \\\n",
    "Atlantic corp."
   ]
  },
  {
   "cell_type": "markdown",
   "metadata": {},
   "source": [
    "_I am interested in data science because it helps me to learn more skills and explore hidden information from data. It is the trend of the today's job market, and it will continue in future because data become source for process improvements and future forecasting_"
   ]
  },
  {
   "cell_type": "markdown",
   "metadata": {},
   "source": [
    "### Calculate the average"
   ]
  },
  {
   "cell_type": "code",
   "execution_count": 9,
   "metadata": {},
   "outputs": [
    {
     "name": "stdout",
     "output_type": "stream",
     "text": [
      "The input data is [1, 2, 3, 4, 5, 6, 7, 8, 9, 10, 11, 12]\n",
      "The average is  6.5\n"
     ]
    }
   ],
   "source": [
    "arr = [1, 2, 3, 4, 5, 6, 7, 8, 9, 10, 11, 12]\n",
    "summ = 0\n",
    "count = 0\n",
    "for i in arr:\n",
    "    summ += i\n",
    "    count += 1\n",
    "average = summ / count\n",
    "print('The input data is', arr)\n",
    "print('The average is ', average)"
   ]
  },
  {
   "cell_type": "markdown",
   "metadata": {},
   "source": [
    "- Enter your Information:\n",
    "     - Last Name, First name ...... , ......\n",
    "     - Birthday ......\n",
    "     - Address ......\n",
    "\n",
    "____\n",
    "\n",
    "~~ By mistake ~~\n",
    "\n",
    "____\n",
    "\n",
    "\n",
    "Firstname|Lastname|Age\n",
    "---|---|---\n",
    "Sarah|Sam| 35\n",
    "Akar|Noh|24\n",
    "\n",
    "___\n",
    "\n",
    "\n"
   ]
  },
  {
   "cell_type": "code",
   "execution_count": null,
   "metadata": {},
   "outputs": [],
   "source": []
  }
 ],
 "metadata": {
  "kernelspec": {
   "display_name": "Python 3 (ipykernel)",
   "language": "python",
   "name": "python3"
  },
  "language_info": {
   "codemirror_mode": {
    "name": "ipython",
    "version": 3
   },
   "file_extension": ".py",
   "mimetype": "text/x-python",
   "name": "python",
   "nbconvert_exporter": "python",
   "pygments_lexer": "ipython3",
   "version": "3.9.7"
  }
 },
 "nbformat": 4,
 "nbformat_minor": 4
}
